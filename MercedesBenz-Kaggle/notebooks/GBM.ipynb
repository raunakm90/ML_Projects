{
 "cells": [
  {
   "cell_type": "markdown",
   "metadata": {},
   "source": [
    "# Gradient Boosting Machines"
   ]
  },
  {
   "cell_type": "code",
   "execution_count": 1,
   "metadata": {
    "collapsed": true
   },
   "outputs": [],
   "source": [
    "import os\n",
    "os.chdir(\"D:/ML_Projects/MercedesBenz-Kaggle/\")\n",
    "import time\n",
    "import numpy as np\n",
    "import pandas as pd\n",
    "import matplotlib.pyplot as plt\n",
    "%matplotlib inline\n",
    "\n",
    "from sklearn.model_selection import GridSearchCV, ShuffleSplit, KFold, learning_curve\n",
    "import sklearn.metrics as mt\n",
    "from sklearn import ensemble\n",
    "np.random.seed(12548)"
   ]
  },
  {
   "cell_type": "markdown",
   "metadata": {},
   "source": [
    "## Read and preprocess data"
   ]
  },
  {
   "cell_type": "code",
   "execution_count": 2,
   "metadata": {
    "code_folding": [
     0,
     6,
     45
    ],
    "collapsed": true
   },
   "outputs": [],
   "source": [
    "def read_data():\n",
    "    train_data = pd.read_csv(\"./data/train.csv\")\n",
    "    test_data = pd.read_csv(\"./data/test.csv\")\n",
    "    return train_data, test_data\n",
    "\n",
    "\n",
    "def process_data(train_data, test_data):\n",
    "    binary_cols, all_zero_cols, all_one_cols = [],[],[]\n",
    "    for col in train_data.iloc[:,10:]:\n",
    "        unique_vals = train_data[col].unique()\n",
    "        if np.array_equal(unique_vals, [1,0]) or np.array_equal(unique_vals, [0,1]):\n",
    "            binary_cols.append(col)\n",
    "        elif np.array_equal(unique_vals, [0]):\n",
    "            all_zero_cols.append(col)\n",
    "        elif np.array_equal(unique_vals, [1]):\n",
    "            all_one_cols.append(col)\n",
    "        else:\n",
    "            print(unique_vals)\n",
    "\n",
    "    # Drop columns with only zeros\n",
    "    train_data = train_data.drop(all_zero_cols, axis=1)\n",
    "    test_data = test_data.drop(all_zero_cols, axis=1)\n",
    "    \n",
    "    train_cat_cols = train_data.iloc[:,2:10]\n",
    "    test_cat_cols = test_data.iloc[:,1:9]\n",
    "    freq=[]\n",
    "    col_names = []\n",
    "    cat_mismatch = []\n",
    "    \n",
    "    for train_col, test_col in zip(train_cat_cols, test_cat_cols):\n",
    "        col_names.append(train_col)\n",
    "        train_freq = len(train_cat_cols[train_col].unique())\n",
    "        test_freq = len(test_cat_cols[test_col].unique())\n",
    "        \n",
    "        if train_freq!=test_freq:\n",
    "            cat_mismatch.append(train_col)\n",
    "            \n",
    "        freq.append([train_freq, test_freq])\n",
    "    freq = pd.DataFrame(freq, columns=['Train_Freq', 'Test_Freq'], index=col_names)\n",
    "    \n",
    "    train_data = train_data.drop(cat_mismatch, axis=1)\n",
    "    test_data = test_data.drop(cat_mismatch, axis=1)\n",
    "    return train_data, test_data\n",
    "\n",
    "\n",
    "def prepare_data_ml(train_data, test_data):\n",
    "    X_train = pd.get_dummies(train_data)\n",
    "    X_train = X_train.drop(['ID','y'], axis=1).values\n",
    "    y_train = train_data.y.values\n",
    "    \n",
    "    X_test = pd.get_dummies(test_data)\n",
    "    y_test_id = test_data.ID.values\n",
    "    X_test = X_test.drop(['ID'], axis=1).values\n",
    "    \n",
    "    return X_train, y_train, X_test, y_test_id\n",
    "\n",
    "def make_submission(reg_estimator, X_test, ID, fname='FinalSubmission'):\n",
    "    y_pred = reg_estimator.predict(X_test)\n",
    "    final_submission = pd.DataFrame(np.hstack([ID[:,np.newaxis], y_pred[:,np.newaxis]]), columns=['ID','y'])\n",
    "    final_submission.ID = final_submission.ID.astype(int)\n",
    "    final_submission.to_csv('./results/'+fname, index=False)\n",
    "    return final_submission"
   ]
  },
  {
   "cell_type": "markdown",
   "metadata": {},
   "source": [
    "## Grid Search"
   ]
  },
  {
   "cell_type": "code",
   "execution_count": 5,
   "metadata": {
    "code_folding": [
     0,
     22
    ]
   },
   "outputs": [
    {
     "name": "stdout",
     "output_type": "stream",
     "text": [
      "Read and preprocess data\n",
      "Training Samples:  (4209, 431)\n",
      "Test Sample:  (4209, 431)\n",
      "============ Grid Search GBM ================\n",
      "Fitting 3 folds for each of 108 candidates, totalling 324 fits\n"
     ]
    },
    {
     "name": "stderr",
     "output_type": "stream",
     "text": [
      "[Parallel(n_jobs=-1)]: Done  34 tasks      | elapsed:   23.7s\n",
      "[Parallel(n_jobs=-1)]: Done 184 tasks      | elapsed:  4.3min\n",
      "[Parallel(n_jobs=-1)]: Done 324 out of 324 | elapsed:  8.9min finished\n"
     ]
    },
    {
     "name": "stdout",
     "output_type": "stream",
     "text": [
      "0.55961990589\n",
      "GradientBoostingRegressor(alpha=0.9, criterion='friedman_mse', init=None,\n",
      "             learning_rate=0.01, loss='ls', max_depth=3,\n",
      "             max_features='sqrt', max_leaf_nodes=None,\n",
      "             min_impurity_split=1e-07, min_samples_leaf=1,\n",
      "             min_samples_split=2, min_weight_fraction_leaf=0.0,\n",
      "             n_estimators=1000, presort='auto', random_state=122,\n",
      "             subsample=1, verbose=0, warm_start=False)\n"
     ]
    }
   ],
   "source": [
    "def gridSearch_gbm(X_train, y_train, K=5):\n",
    "    param_grid = param_grid = {'n_estimators': [100,500,1000], 'max_depth': [3,5,10],\n",
    "                               'min_samples_split': [2],\n",
    "                               'learning_rate':[10e-3, 10e-2,10e-1] ,\n",
    "                               'loss': ['ls','huber'],\n",
    "                               'subsample':[1], 'max_features':['sqrt','log2'],\n",
    "                               'criterion':['friedman_mse']}\n",
    "\n",
    "    cv_kfold = KFold(n_splits=K, shuffle=True, random_state=12548)\n",
    "\n",
    "    gbm_regressor = ensemble.GradientBoostingRegressor(random_state=122)\n",
    "\n",
    "    gs_gbm = GridSearchCV(estimator=gbm_regressor,\n",
    "                          param_grid=param_grid,\n",
    "                          scoring='r2',\n",
    "                          cv=cv_kfold,\n",
    "                          n_jobs=-1,\n",
    "                          verbose=1)\n",
    "    gs_gbm.fit(X_train, y_train)\n",
    "    print(gs_gbm.best_score_)\n",
    "    return gs_gbm.best_estimator_\n",
    "\n",
    "def run_gridSearch_gbm():\n",
    "    print(\"Read and preprocess data\")\n",
    "\n",
    "    train_data, test_data = read_data()\n",
    "    train_data, test_data = process_data(train_data, test_data)\n",
    "\n",
    "    X_train, y_train, X_test, y_test_id = prepare_data_ml(train_data, test_data)\n",
    "\n",
    "    print(\"Training Samples: \", X_train.shape)\n",
    "    print(\"Test Sample: \", X_test.shape)\n",
    "\n",
    "    print(\"============ Grid Search GBM ================\")\n",
    "\n",
    "    gbm_best_estimator = gridSearch_gbm(X_train, y_train, K=3)\n",
    "    print(gbm_best_estimator)\n",
    "    return gbm_best_estimator\n",
    "\n",
    "gbm_best_estimator = run_gridSearch_gbm()"
   ]
  },
  {
   "cell_type": "markdown",
   "metadata": {},
   "source": [
    "## Evaluate best estimator"
   ]
  },
  {
   "cell_type": "code",
   "execution_count": 7,
   "metadata": {},
   "outputs": [
    {
     "name": "stdout",
     "output_type": "stream",
     "text": [
      "Training Samples:  (4209, 431)\n",
      "Test Sample:  (4209, 431)\n"
     ]
    }
   ],
   "source": [
    "train_data, test_data = read_data()\n",
    "train_data, test_data = process_data(train_data, test_data)\n",
    "\n",
    "X_train, y_train, X_test, y_test_id = prepare_data_ml(train_data, test_data)\n",
    "\n",
    "print(\"Training Samples: \", X_train.shape)\n",
    "print(\"Test Sample: \", X_test.shape)"
   ]
  },
  {
   "cell_type": "code",
   "execution_count": 8,
   "metadata": {
    "collapsed": true
   },
   "outputs": [],
   "source": [
    "def eval_gbm(gbm_regressor, X_train, y_train, K=5):\n",
    "    cv_ss = ShuffleSplit(n_splits=K, test_size=0.3, random_state=12548)\n",
    "    reg_scores = []\n",
    "    \n",
    "    for train_idx, val_idx in cv_ss.split(X_train, y_train):\n",
    "        x_train_cv, y_train_cv = X_train[train_idx], y_train[train_idx]\n",
    "        x_val_cv, y_val_cv = X_train[val_idx], y_train[val_idx]\n",
    "        \n",
    "        reg_model = gbm_regressor\n",
    "        reg_model.fit(x_train_cv, y_train_cv)\n",
    "        y_pred_cv = reg_model.predict(x_val_cv)\n",
    "        \n",
    "        r_2 = mt.r2_score(y_val_cv, y_pred_cv) # Coefficient of determination\n",
    "        mse = mt.mean_squared_error(y_val_cv, y_pred_cv) # Mean squared error\n",
    "        explained_var = mt.explained_variance_score(y_val_cv, y_pred_cv) # Explained variance\n",
    "        \n",
    "        reg_scores.append([r_2, mse, explained_var])\n",
    "\n",
    "    reg_scores = pd.DataFrame(reg_scores, columns=['R^2','MSE','Explained_Variance'])\n",
    "    return reg_scores\n",
    "\n",
    "gbm_scores = eval_gbm(gbm_best_estimator, X_train, y_train, K=10)"
   ]
  },
  {
   "cell_type": "code",
   "execution_count": 9,
   "metadata": {},
   "outputs": [
    {
     "data": {
      "text/html": [
       "<div>\n",
       "<style>\n",
       "    .dataframe thead tr:only-child th {\n",
       "        text-align: right;\n",
       "    }\n",
       "\n",
       "    .dataframe thead th {\n",
       "        text-align: left;\n",
       "    }\n",
       "\n",
       "    .dataframe tbody tr th {\n",
       "        vertical-align: top;\n",
       "    }\n",
       "</style>\n",
       "<table border=\"1\" class=\"dataframe\">\n",
       "  <thead>\n",
       "    <tr style=\"text-align: right;\">\n",
       "      <th></th>\n",
       "      <th>R^2</th>\n",
       "      <th>MSE</th>\n",
       "      <th>Explained_Variance</th>\n",
       "    </tr>\n",
       "  </thead>\n",
       "  <tbody>\n",
       "    <tr>\n",
       "      <th>0</th>\n",
       "      <td>0.584149</td>\n",
       "      <td>64.788217</td>\n",
       "      <td>0.584163</td>\n",
       "    </tr>\n",
       "    <tr>\n",
       "      <th>1</th>\n",
       "      <td>0.468166</td>\n",
       "      <td>90.012350</td>\n",
       "      <td>0.468169</td>\n",
       "    </tr>\n",
       "    <tr>\n",
       "      <th>2</th>\n",
       "      <td>0.590170</td>\n",
       "      <td>60.494783</td>\n",
       "      <td>0.590836</td>\n",
       "    </tr>\n",
       "    <tr>\n",
       "      <th>3</th>\n",
       "      <td>0.600907</td>\n",
       "      <td>59.874545</td>\n",
       "      <td>0.601121</td>\n",
       "    </tr>\n",
       "    <tr>\n",
       "      <th>4</th>\n",
       "      <td>0.589492</td>\n",
       "      <td>61.065421</td>\n",
       "      <td>0.589493</td>\n",
       "    </tr>\n",
       "    <tr>\n",
       "      <th>5</th>\n",
       "      <td>0.482635</td>\n",
       "      <td>91.963143</td>\n",
       "      <td>0.483866</td>\n",
       "    </tr>\n",
       "    <tr>\n",
       "      <th>6</th>\n",
       "      <td>0.565567</td>\n",
       "      <td>67.129619</td>\n",
       "      <td>0.565569</td>\n",
       "    </tr>\n",
       "    <tr>\n",
       "      <th>7</th>\n",
       "      <td>0.580793</td>\n",
       "      <td>62.216617</td>\n",
       "      <td>0.581467</td>\n",
       "    </tr>\n",
       "    <tr>\n",
       "      <th>8</th>\n",
       "      <td>0.591394</td>\n",
       "      <td>66.480366</td>\n",
       "      <td>0.591455</td>\n",
       "    </tr>\n",
       "    <tr>\n",
       "      <th>9</th>\n",
       "      <td>0.503943</td>\n",
       "      <td>85.262269</td>\n",
       "      <td>0.503953</td>\n",
       "    </tr>\n",
       "  </tbody>\n",
       "</table>\n",
       "</div>"
      ],
      "text/plain": [
       "        R^2        MSE  Explained_Variance\n",
       "0  0.584149  64.788217            0.584163\n",
       "1  0.468166  90.012350            0.468169\n",
       "2  0.590170  60.494783            0.590836\n",
       "3  0.600907  59.874545            0.601121\n",
       "4  0.589492  61.065421            0.589493\n",
       "5  0.482635  91.963143            0.483866\n",
       "6  0.565567  67.129619            0.565569\n",
       "7  0.580793  62.216617            0.581467\n",
       "8  0.591394  66.480366            0.591455\n",
       "9  0.503943  85.262269            0.503953"
      ]
     },
     "execution_count": 9,
     "metadata": {},
     "output_type": "execute_result"
    }
   ],
   "source": [
    "gbm_scores"
   ]
  },
  {
   "cell_type": "code",
   "execution_count": 19,
   "metadata": {
    "code_folding": [
     0
    ],
    "collapsed": true
   },
   "outputs": [],
   "source": [
    "def plot_learning_curve(X,y,reg_estimator, cv_estimator, scorer, xlabel=''):\n",
    "    train_x_axis, train_scores, test_scores =learning_curve(estimator=reg_estimator,\n",
    "                                                           X=X,\n",
    "                                                           y=y,\n",
    "                                                           train_sizes=np.linspace(0.1, 1.0, 10),\n",
    "                                                           cv=cv_estimator,\n",
    "                                                           scoring=scorer,\n",
    "                                                           exploit_incremental_learning=False,\n",
    "                                                           n_jobs=-1)\n",
    "    train_mean = np.mean(train_scores, axis=1)\n",
    "    train_std = np.std(train_scores, axis=1)\n",
    "    test_mean = np.mean(test_scores, axis=1)\n",
    "    test_std = np.std(test_scores, axis=1)\n",
    "\n",
    "    plt.plot(train_x_axis, train_mean,\n",
    "             color='blue', marker='o',\n",
    "             markersize=5, label='training R2')\n",
    "\n",
    "    plt.fill_between(train_x_axis,\n",
    "                     train_mean + train_std,\n",
    "                     train_mean - train_std,\n",
    "                     alpha=0.15, color='blue')\n",
    "\n",
    "    plt.plot(train_x_axis, test_mean,\n",
    "             color='green', linestyle='--',\n",
    "             marker='s', markersize=5,\n",
    "             label='validation R2')\n",
    "\n",
    "    plt.fill_between(train_x_axis,\n",
    "                     test_mean + test_std,\n",
    "                     test_mean - test_std,\n",
    "                     alpha=0.15, color='green')\n",
    "\n",
    "    plt.grid()\n",
    "    plt.xlabel(xlabel)\n",
    "    plt.ylabel('R2')\n",
    "    plt.legend(loc='lower right')\n",
    "    plt.tight_layout()"
   ]
  },
  {
   "cell_type": "code",
   "execution_count": 20,
   "metadata": {},
   "outputs": [
    {
     "data": {
      "image/png": "[encoded data removed]",
      "text/plain": [
       "<matplotlib.figure.Figure at 0x1d789cb0a20>"
      ]
     },
     "metadata": {},
     "output_type": "display_data"
    }
   ],
   "source": [
    "cv_ss = ShuffleSplit(n_splits=10, test_size=0.3, random_state=12548)\n",
    "plot_learning_curve(X_train, y_train, gbm_best_estimator, cv_ss, scorer='neg_mean_squared_error', xlabel='Training Size')"
   ]
  },
  {
   "cell_type": "code",
   "execution_count": 29,
   "metadata": {},
   "outputs": [
    {
     "name": "stdout",
     "output_type": "stream",
     "text": [
      "Coefficient of Determination:  0.597975444419\n",
      "Mean Square Error:  64.6168093065\n",
      "Explained Variance:  0.597975444419\n"
     ]
    }
   ],
   "source": [
    "gbm_regressor_final = gbm_best_estimator\n",
    "gbm_regressor_final.fit(X_train, y_train)\n",
    "\n",
    "y_train_pred = gbm_regressor_final.predict(X_train)\n",
    "\n",
    "r_2 = mt.r2_score(y_train, y_train_pred) # Coefficient of determination\n",
    "mse = mt.mean_squared_error(y_train, y_train_pred) # Mean squared error\n",
    "explained_var = mt.explained_variance_score(y_train, y_train_pred) # Explained variance\n",
    "\n",
    "print(\"Coefficient of Determination: \", r_2)\n",
    "print(\"Mean Square Error: \", mse)\n",
    "print(\"Explained Variance: \", explained_var)"
   ]
  },
  {
   "cell_type": "code",
   "execution_count": 31,
   "metadata": {
    "collapsed": true,
    "scrolled": true
   },
   "outputs": [],
   "source": [
    "y_test_pred = make_submission(gbm_regressor_final, X_test, y_test_id, fname=\"GBM_Regression\")"
   ]
  },
  {
   "cell_type": "markdown",
   "metadata": {
    "collapsed": true
   },
   "source": [
    "# Random Forest"
   ]
  },
  {
   "cell_type": "code",
   "execution_count": null,
   "metadata": {},
   "outputs": [
    {
     "name": "stdout",
     "output_type": "stream",
     "text": [
      "Read and preprocess data\n",
      "Training Samples:  (4209, 431)\n",
      "Test Sample:  (4209, 431)\n",
      "============ Grid Search Random Forest ================\n",
      "Fitting 3 folds for each of 36 candidates, totalling 108 fits\n"
     ]
    },
    {
     "name": "stderr",
     "output_type": "stream",
     "text": [
      "[Parallel(n_jobs=4)]: Done  42 tasks      | elapsed:   18.0s\n"
     ]
    }
   ],
   "source": [
    "from sklearn.ensemble import RandomForestRegressor\n",
    "\n",
    "def gridSearch_rf(X_train, y_train, K=5):\n",
    "    param_grid = param_grid = {'n_estimators': [100,500,1000], \n",
    "                               'criterion':['mse','mae'],\n",
    "                               'max_depth': [3,5,10],\n",
    "                               'max_features':['sqrt','log2']}\n",
    "\n",
    "    cv_kfold = KFold(n_splits=K, shuffle=True, random_state=12548)\n",
    "\n",
    "    rf_regressor = ensemble.RandomForestRegressor(random_state=122)\n",
    "\n",
    "    gs_rf = GridSearchCV(estimator=rf_regressor,\n",
    "                          param_grid=param_grid,\n",
    "                          scoring='r2',\n",
    "                          cv=cv_kfold,\n",
    "                          n_jobs=4,\n",
    "                          verbose=1)\n",
    "    gs_rf.fit(X_train, y_train)\n",
    "    print(gs_rf.best_score_)\n",
    "    return gs_rf.best_estimator_\n",
    "\n",
    "def run_gridSearch_rf():\n",
    "    print(\"Read and preprocess data\")\n",
    "\n",
    "    train_data, test_data = read_data()\n",
    "    train_data, test_data = process_data(train_data, test_data)\n",
    "\n",
    "    X_train, y_train, X_test, y_test_id = prepare_data_ml(train_data, test_data)\n",
    "\n",
    "    print(\"Training Samples: \", X_train.shape)\n",
    "    print(\"Test Sample: \", X_test.shape)\n",
    "\n",
    "    print(\"============ Grid Search Random Forest ================\")\n",
    "\n",
    "    rf_best_estimator = gridSearch_rf(X_train, y_train, K=3)\n",
    "    print(rf_best_estimator)\n",
    "    return rf_best_estimator\n",
    "\n",
    "gbm_best_estimator = run_gridSearch_rf()"
   ]
  },
  {
   "cell_type": "code",
   "execution_count": null,
   "metadata": {
    "collapsed": true
   },
   "outputs": [],
   "source": []
  }
 ],
 "metadata": {
  "kernelspec": {
   "display_name": "Python 3",
   "language": "python",
   "name": "python3"
  },
  "language_info": {
   "codemirror_mode": {
    "name": "ipython",
    "version": 3
   },
   "file_extension": ".py",
   "mimetype": "text/x-python",
   "name": "python",
   "nbconvert_exporter": "python",
   "pygments_lexer": "ipython3",
   "version": "3.5.2"
  },
  "toc": {
   "colors": {
    "hover_highlight": "#DAA520",
    "running_highlight": "#FF0000",
    "selected_highlight": "#FFD700"
   },
   "moveMenuLeft": true,
   "nav_menu": {
    "height": "85px",
    "width": "252px"
   },
   "navigate_menu": true,
   "number_sections": true,
   "sideBar": true,
   "threshold": 4,
   "toc_cell": false,
   "toc_section_display": "block",
   "toc_window_display": false
  }
 },
 "nbformat": 4,
 "nbformat_minor": 2
}
