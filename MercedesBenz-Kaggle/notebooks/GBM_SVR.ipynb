{
 "cells": [
  {
   "cell_type": "code",
   "execution_count": 1,
   "metadata": {},
   "outputs": [
    {
     "name": "stderr",
     "output_type": "stream",
     "text": [
      "D:\\Anaconda\\envs\\ml_env\\lib\\site-packages\\IPython\\html.py:14: ShimWarning: The `IPython.html` package has been deprecated since IPython 4.0. You should import from `notebook` instead. `IPython.html.widgets` has moved to `ipywidgets`.\n",
      "  \"`IPython.html.widgets` has moved to `ipywidgets`.\", ShimWarning)\n"
     ]
    }
   ],
   "source": [
    "import os\n",
    "os.chdir(\"D:/ML_Projects/MercedesBenz-Kaggle/\")\n",
    "import numpy as np\n",
    "import pandas as pd\n",
    "import matplotlib\n",
    "import matplotlib.pyplot as plt\n",
    "%matplotlib inline\n",
    "\n",
    "import seaborn as sns\n",
    "\n",
    "from sklearn.model_selection import GridSearchCV, ShuffleSplit, KFold\n",
    "import sklearn.metrics as mt\n",
    "from sklearn import svm, ensemble\n",
    "from sklearn.linear_model import LinearRegression, BayesianRidge, ElasticNet\n",
    "from sklearn.neural_network import MLPRegressor"
   ]
  },
  {
   "cell_type": "code",
   "execution_count": 2,
   "metadata": {
    "code_folding": [
     0,
     6,
     45,
     56
    ],
    "collapsed": true
   },
   "outputs": [],
   "source": [
    "def read_data():\n",
    "    train_data = pd.read_csv(\"./data/train.csv\")\n",
    "    test_data = pd.read_csv(\"./data/test.csv\")\n",
    "    return train_data, test_data\n",
    "\n",
    "\n",
    "def process_data(train_data, test_data):\n",
    "    binary_cols, all_zero_cols, all_one_cols = [],[],[]\n",
    "    for col in train_data.iloc[:,10:]:\n",
    "        unique_vals = train_data[col].unique()\n",
    "        if np.array_equal(unique_vals, [1,0]) or np.array_equal(unique_vals, [0,1]):\n",
    "            binary_cols.append(col)\n",
    "        elif np.array_equal(unique_vals, [0]):\n",
    "            all_zero_cols.append(col)\n",
    "        elif np.array_equal(unique_vals, [1]):\n",
    "            all_one_cols.append(col)\n",
    "        else:\n",
    "            print(unique_vals)\n",
    "\n",
    "    # Drop columns with only zeros\n",
    "    train_data = train_data.drop(all_zero_cols, axis=1)\n",
    "    test_data = test_data.drop(all_zero_cols, axis=1)\n",
    "    \n",
    "    train_cat_cols = train_data.iloc[:,2:10]\n",
    "    test_cat_cols = test_data.iloc[:,1:9]\n",
    "    freq=[]\n",
    "    col_names = []\n",
    "    cat_mismatch = []\n",
    "    \n",
    "    for train_col, test_col in zip(train_cat_cols, test_cat_cols):\n",
    "        col_names.append(train_col)\n",
    "        train_freq = len(train_cat_cols[train_col].unique())\n",
    "        test_freq = len(test_cat_cols[test_col].unique())\n",
    "        \n",
    "        if train_freq!=test_freq:\n",
    "            cat_mismatch.append(train_col)\n",
    "            \n",
    "        freq.append([train_freq, test_freq])\n",
    "    freq = pd.DataFrame(freq, columns=['Train_Freq', 'Test_Freq'], index=col_names)\n",
    "    \n",
    "    train_data = train_data.drop(cat_mismatch, axis=1)\n",
    "    test_data = test_data.drop(cat_mismatch, axis=1)\n",
    "    return train_data, test_data\n",
    "\n",
    "\n",
    "def prepare_data_ml(train_data, test_data):\n",
    "    X_train = pd.get_dummies(train_data)\n",
    "    X_train = X_train.drop(['ID','y'], axis=1).values\n",
    "    y_train = train_data.y.values\n",
    "    \n",
    "    X_test = pd.get_dummies(test_data)\n",
    "    y_test_id = test_data.ID.values\n",
    "    X_test = X_test.drop(['ID'], axis=1).values\n",
    "    \n",
    "    return X_train, y_train, X_test, y_test_id\n",
    "\n",
    "def make_submission(reg_estimator, X_test, ID, fname='FinalSubmission'):\n",
    "    y_pred = reg_estimator.predict(X_test)\n",
    "    final_submission = pd.DataFrame(np.hstack([ID[:,np.newaxis], y_pred[:,np.newaxis]]), columns=['ID','y'])\n",
    "    final_submission.ID = final_submission.ID.astype(int)\n",
    "    final_submission.to_csv('./results/'+fname, index=False)\n",
    "    return final_submission"
   ]
  },
  {
   "cell_type": "code",
   "execution_count": 3,
   "metadata": {
    "collapsed": true
   },
   "outputs": [],
   "source": [
    "def build_regressor(regressor_obj, X_train, y_train):\n",
    "    print(regressor_obj)\n",
    "    regressor_obj.fit(X_train, y_train)\n",
    "    y_train_pred = regressor_obj.predict(X_train)\n",
    "    \n",
    "    r_2 = mt.r2_score(y_train, y_train_pred) # Coefficient of determination\n",
    "    mse = mt.mean_squared_error(y_train, y_train_pred) # Mean squared error\n",
    "    explained_var = mt.explained_variance_score(y_train, y_train_pred) # Explained variance\n",
    "    \n",
    "    print(\"Coefficient of Determination: \", r_2)\n",
    "    print(\"Mean Square Error: \", mse)\n",
    "    \n",
    "    return regressor_obj, y_train_pred"
   ]
  },
  {
   "cell_type": "code",
   "execution_count": 4,
   "metadata": {},
   "outputs": [
    {
     "name": "stdout",
     "output_type": "stream",
     "text": [
      "Training Samples:  (4209, 431)\n",
      "Test Sample:  (4209, 431)\n"
     ]
    }
   ],
   "source": [
    "train_data, test_data = read_data()\n",
    "train_data, test_data = process_data(train_data, test_data)\n",
    "\n",
    "X_train, y_train, X_test, y_test_id = prepare_data_ml(train_data, test_data)\n",
    "\n",
    "print(\"Training Samples: \", X_train.shape)\n",
    "print(\"Test Sample: \", X_test.shape)"
   ]
  },
  {
   "cell_type": "code",
   "execution_count": 5,
   "metadata": {},
   "outputs": [
    {
     "name": "stdout",
     "output_type": "stream",
     "text": [
      "===============SVR Regression===============\n",
      "SVR(C=1.0, cache_size=200, coef0=0.0, degree=3, epsilon=0.1, gamma='auto',\n",
      "  kernel='linear', max_iter=-1, shrinking=True, tol=0.001, verbose=False)\n",
      "Coefficient of Determination:  0.541527816681\n",
      "Mean Square Error:  73.6895526173\n",
      "===============GBM Regression===============\n",
      "GradientBoostingRegressor(alpha=0.9, criterion='friedman_mse', init=None,\n",
      "             learning_rate=0.01, loss='ls', max_depth=3,\n",
      "             max_features='sqrt', max_leaf_nodes=None,\n",
      "             min_impurity_split=1e-07, min_samples_leaf=1,\n",
      "             min_samples_split=2, min_weight_fraction_leaf=0.0,\n",
      "             n_estimators=1000, presort='auto', random_state=122,\n",
      "             subsample=1, verbose=0, warm_start=False)\n",
      "Coefficient of Determination:  0.597975444419\n",
      "Mean Square Error:  64.6168093065\n"
     ]
    }
   ],
   "source": [
    "print (\"===============SVR Regression===============\")\n",
    "svr_regressor = svm.SVR(C=1.0, epsilon=0.1, gamma='auto',\n",
    "                        kernel='linear', max_iter=-1, shrinking=True, tol=0.001, verbose=False)\n",
    "svr_regressor, svr_pred = build_regressor(svr_regressor, X_train, y_train)\n",
    "\n",
    "print (\"===============GBM Regression===============\")\n",
    "gbm_regressor = ensemble.GradientBoostingRegressor(alpha=0.9, criterion='friedman_mse',\n",
    "                                                   learning_rate=0.01, loss='ls', max_depth=3,\n",
    "                                                   max_features='sqrt',\n",
    "                                                   min_samples_split=2, min_weight_fraction_leaf=0.0,\n",
    "                                                   n_estimators=1000, random_state=122,\n",
    "                                                   subsample=1, verbose=0)\n",
    "gbm_regressor, gbm_pred = build_regressor(gbm_regressor, X_train, y_train)"
   ]
  },
  {
   "cell_type": "code",
   "execution_count": 6,
   "metadata": {},
   "outputs": [
    {
     "data": {
      "text/plain": [
       "<matplotlib.collections.PathCollection at 0x2e06f3287f0>"
      ]
     },
     "execution_count": 6,
     "metadata": {},
     "output_type": "execute_result"
    },
    {
     "data": {
      "image/png": "[encoded data removed]",
      "text/plain": [
       "<matplotlib.figure.Figure at 0x2e06ee77588>"
      ]
     },
     "metadata": {},
     "output_type": "display_data"
    }
   ],
   "source": [
    "f, axarr = plt.subplots(2)\n",
    "axarr[0].scatter(svr_pred, y_train)\n",
    "axarr[1].scatter(gbm_pred, y_train)"
   ]
  },
  {
   "cell_type": "markdown",
   "metadata": {},
   "source": [
    "## Stacking - Average of the predictions\n",
    "\n",
    "### Ordinary Least Squares Regression"
   ]
  },
  {
   "cell_type": "code",
   "execution_count": 7,
   "metadata": {
    "collapsed": true
   },
   "outputs": [],
   "source": [
    "stacked_x_train = np.transpose(np.vstack((svr_pred, gbm_pred)))"
   ]
  },
  {
   "cell_type": "code",
   "execution_count": 8,
   "metadata": {},
   "outputs": [
    {
     "name": "stdout",
     "output_type": "stream",
     "text": [
      "Ridge(alpha=0.0001, copy_X=True, fit_intercept=True, max_iter=None,\n",
      "   normalize=True, random_state=None, solver='auto', tol=0.001)\n",
      "Coefficient of Determination:  0.600413038089\n",
      "Mean Square Error:  64.2250184989\n"
     ]
    }
   ],
   "source": [
    "from sklearn.linear_model import Ridge\n",
    "stacked_lr = Ridge(alpha=0.0001, fit_intercept=True, normalize=True)\n",
    "stacked_lr, stacked_pred = build_regressor(stacked_lr, stacked_x_train, y_train)"
   ]
  },
  {
   "cell_type": "code",
   "execution_count": 9,
   "metadata": {},
   "outputs": [
    {
     "data": {
      "text/plain": [
       "array([-0.15680654,  1.21461296])"
      ]
     },
     "execution_count": 9,
     "metadata": {},
     "output_type": "execute_result"
    }
   ],
   "source": [
    "stacked_lr.coef_"
   ]
  },
  {
   "cell_type": "code",
   "execution_count": 10,
   "metadata": {
    "collapsed": true
   },
   "outputs": [],
   "source": [
    "svr_test_pred = svr_regressor.predict(X_test)\n",
    "gbm_test_pred = gbm_regressor.predict(X_test)\n",
    "\n",
    "stacked_x_test = np.transpose(np.vstack((svr_test_pred, gbm_test_pred)))\n",
    "\n",
    "stacked_lr_submission = make_submission(stacked_lr, stacked_x_test, y_test_id, \"Stacked_Linear_Regression\")"
   ]
  },
  {
   "cell_type": "code",
   "execution_count": 11,
   "metadata": {},
   "outputs": [
    {
     "data": {
      "text/plain": [
       "<matplotlib.axes._subplots.AxesSubplot at 0x2e06f3decc0>"
      ]
     },
     "execution_count": 11,
     "metadata": {},
     "output_type": "execute_result"
    },
    {
     "data": {
      "image/png": "[encoded data removed]",
      "text/plain": [
       "<matplotlib.figure.Figure at 0x2e06f34ef28>"
      ]
     },
     "metadata": {},
     "output_type": "display_data"
    }
   ],
   "source": [
    "fig,axarr = plt.subplots(2, sharex=True)\n",
    "sns.violinplot(stacked_pred, ax=axarr[0])\n",
    "sns.violinplot(y_train, ax=axarr[1])"
   ]
  },
  {
   "cell_type": "code",
   "execution_count": null,
   "metadata": {
    "collapsed": true
   },
   "outputs": [],
   "source": []
  }
 ],
 "metadata": {
  "kernelspec": {
   "display_name": "Python 3",
   "language": "python",
   "name": "python3"
  },
  "language_info": {
   "codemirror_mode": {
    "name": "ipython",
    "version": 3
   },
   "file_extension": ".py",
   "mimetype": "text/x-python",
   "name": "python",
   "nbconvert_exporter": "python",
   "pygments_lexer": "ipython3",
   "version": "3.5.2"
  },
  "toc": {
   "colors": {
    "hover_highlight": "#DAA520",
    "running_highlight": "#FF0000",
    "selected_highlight": "#FFD700"
   },
   "moveMenuLeft": true,
   "nav_menu": {
    "height": "82px",
    "width": "252px"
   },
   "navigate_menu": true,
   "number_sections": true,
   "sideBar": true,
   "threshold": 4,
   "toc_cell": false,
   "toc_section_display": "block",
   "toc_window_display": false
  }
 },
 "nbformat": 4,
 "nbformat_minor": 2
}
