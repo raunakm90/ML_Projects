{
 "cells": [
  {
   "cell_type": "markdown",
   "metadata": {},
   "source": [
    "# Neuarl Network Regressor in TensorFlow"
   ]
  },
  {
   "cell_type": "code",
   "execution_count": 3,
   "metadata": {
    "collapsed": true
   },
   "outputs": [],
   "source": [
    "import os\n",
    "os.chdir(\"D:/ML_Projects/MercedesBenz-Kaggle/\")\n",
    "\n",
    "import numpy as np\n",
    "import pandas as pd\n",
    "import tensorflow as tf"
   ]
  },
  {
   "cell_type": "code",
   "execution_count": 6,
   "metadata": {
    "code_folding": [
     2,
     9
    ],
    "collapsed": true
   },
   "outputs": [],
   "source": [
    "np.random.seed(12548)\n",
    "\n",
    "def read_data():\n",
    "\ttrain_data = pd.read_csv(\"./data/train.csv\")\n",
    "\ttest_data = pd.read_csv(\"./data/test.csv\")\n",
    "\n",
    "\treturn train_data, test_data\n",
    "\n",
    "\n",
    "def process_data(train_data, test_data):\n",
    "\tbinary_cols, all_zero_cols, all_one_cols = [],[],[]\n",
    "\tfor col in train_data.iloc[:,10:]:\n",
    "\t\tunique_vals = train_data[col].unique()\n",
    "\t\tif np.array_equal(unique_vals, [1,0]) or np.array_equal(unique_vals, [0,1]):\n",
    "\t\t\tbinary_cols.append(col)\n",
    "\t\telif np.array_equal(unique_vals, [0]):\n",
    "\t\t\tall_zero_cols.append(col)\n",
    "\t\telif np.array_equal(unique_vals, [1]):\n",
    "\t\t\tall_one_cols.append(col)\n",
    "\t\telse:\n",
    "\t\t\tprint(unique_vals)\n",
    "\n",
    "\t# Drop columns with only zeros\n",
    "\ttrain_data = train_data.drop(all_zero_cols, axis=1)\n",
    "\ttest_data = test_data.drop(all_zero_cols, axis=1)\n",
    "\n",
    "\ttrain_cat_cols = train_data.iloc[:,2:10]\n",
    "\ttest_cat_cols = test_data.iloc[:,1:9]\n",
    "\tfreq=[]\n",
    "\tcol_names = []\n",
    "\tcat_mismatch = []\n",
    "\n",
    "\tfor train_col, test_col in zip(train_cat_cols, test_cat_cols):\n",
    "\t\tcol_names.append(train_col)\n",
    "\t\ttrain_freq = len(train_cat_cols[train_col].unique())\n",
    "\t\ttest_freq = len(test_cat_cols[test_col].unique())\n",
    "\n",
    "\t\tif train_freq!=test_freq:\n",
    "\t\t\tcat_mismatch.append(train_col)\n",
    "\n",
    "\t\tfreq.append([train_freq, test_freq])\n",
    "\tfreq = pd.DataFrame(freq, columns=['Train_Freq', 'Test_Freq'], index=col_names)\n",
    "\n",
    "\ttrain_data = train_data.drop(cat_mismatch, axis=1)\n",
    "\ttest_data = test_data.drop(cat_mismatch, axis=1)\n",
    "\n",
    "\treturn train_data, test_data\n",
    "\n",
    "\n",
    "def prepare_data_ml(train_data, test_data):\n",
    "\tX_train = pd.get_dummies(train_data)\n",
    "\tX_train = X_train.drop(['ID','y'], axis=1).values\n",
    "\ty_train = train_data.y.values\n",
    "\n",
    "\tX_test = pd.get_dummies(test_data)\n",
    "\ty_test_id = test_data.ID.values\n",
    "\tX_test = X_test.drop(['ID'], axis=1).values\n",
    "\n",
    "\treturn X_train, y_train, X_test, y_test_id"
   ]
  },
  {
   "cell_type": "code",
   "execution_count": 7,
   "metadata": {},
   "outputs": [],
   "source": [
    "def input_fn(data):\n",
    "    feature_cols = [tf.contrib.layers.real_valued_column_valued_column(k) for k in data[0].columns]\n",
    "    labels = data[1]\n",
    "    return feature_cols, labels\n",
    "\n",
    "train_data, test_data = read_data()\n",
    "train_data, test_data = process_data(train_data, test_data)\n",
    "X_train, y_train, X_test, y_test_id = prepare_data_ml(train_data, test_data)"
   ]
  },
  {
   "cell_type": "code",
   "execution_count": 8,
   "metadata": {},
   "outputs": [
    {
     "ename": "AttributeError",
     "evalue": "'numpy.ndarray' object has no attribute 'columns'",
     "output_type": "error",
     "traceback": [
      "\u001b[1;31m---------------------------------------------------------------------------\u001b[0m",
      "\u001b[1;31mAttributeError\u001b[0m                            Traceback (most recent call last)",
      "\u001b[1;32m<ipython-input-8-f25ff6b135e5>\u001b[0m in \u001b[0;36m<module>\u001b[1;34m()\u001b[0m\n\u001b[1;32m----> 1\u001b[1;33m \u001b[0mfeature_cols\u001b[0m\u001b[1;33m,\u001b[0m \u001b[0mlabels\u001b[0m \u001b[1;33m=\u001b[0m \u001b[0minput_fn\u001b[0m\u001b[1;33m(\u001b[0m\u001b[1;33m[\u001b[0m\u001b[0mX_train\u001b[0m\u001b[1;33m,\u001b[0m \u001b[0my_train\u001b[0m\u001b[1;33m]\u001b[0m\u001b[1;33m)\u001b[0m\u001b[1;33m\u001b[0m\u001b[0m\n\u001b[0m",
      "\u001b[1;32m<ipython-input-7-922f5b28bfdc>\u001b[0m in \u001b[0;36minput_fn\u001b[1;34m(data)\u001b[0m\n\u001b[0;32m      1\u001b[0m \u001b[1;32mdef\u001b[0m \u001b[0minput_fn\u001b[0m\u001b[1;33m(\u001b[0m\u001b[0mdata\u001b[0m\u001b[1;33m)\u001b[0m\u001b[1;33m:\u001b[0m\u001b[1;33m\u001b[0m\u001b[0m\n\u001b[1;32m----> 2\u001b[1;33m     \u001b[0mfeature_cols\u001b[0m \u001b[1;33m=\u001b[0m \u001b[1;33m[\u001b[0m\u001b[0mtf\u001b[0m\u001b[1;33m.\u001b[0m\u001b[0mcontrib\u001b[0m\u001b[1;33m.\u001b[0m\u001b[0mlayers\u001b[0m\u001b[1;33m.\u001b[0m\u001b[0mreal_valued_column_valued_column\u001b[0m\u001b[1;33m(\u001b[0m\u001b[0mk\u001b[0m\u001b[1;33m)\u001b[0m \u001b[1;32mfor\u001b[0m \u001b[0mk\u001b[0m \u001b[1;32min\u001b[0m \u001b[0mdata\u001b[0m\u001b[1;33m[\u001b[0m\u001b[1;36m0\u001b[0m\u001b[1;33m]\u001b[0m\u001b[1;33m.\u001b[0m\u001b[0mcolumns\u001b[0m\u001b[1;33m]\u001b[0m\u001b[1;33m\u001b[0m\u001b[0m\n\u001b[0m\u001b[0;32m      3\u001b[0m     \u001b[0mlabels\u001b[0m \u001b[1;33m=\u001b[0m \u001b[0mdata\u001b[0m\u001b[1;33m[\u001b[0m\u001b[1;36m1\u001b[0m\u001b[1;33m]\u001b[0m\u001b[1;33m\u001b[0m\u001b[0m\n\u001b[0;32m      4\u001b[0m     \u001b[1;32mreturn\u001b[0m \u001b[0mfeature_cols\u001b[0m\u001b[1;33m,\u001b[0m \u001b[0mlabels\u001b[0m\u001b[1;33m\u001b[0m\u001b[0m\n\u001b[0;32m      5\u001b[0m \u001b[1;33m\u001b[0m\u001b[0m\n",
      "\u001b[1;31mAttributeError\u001b[0m: 'numpy.ndarray' object has no attribute 'columns'"
     ]
    }
   ],
   "source": [
    "feature_cols, labels = input_fn([X_train, y_train])"
   ]
  },
  {
   "cell_type": "code",
   "execution_count": null,
   "metadata": {
    "collapsed": true
   },
   "outputs": [],
   "source": []
  }
 ],
 "metadata": {
  "kernelspec": {
   "display_name": "Python 3",
   "language": "python",
   "name": "python3"
  },
  "language_info": {
   "codemirror_mode": {
    "name": "ipython",
    "version": 3
   },
   "file_extension": ".py",
   "mimetype": "text/x-python",
   "name": "python",
   "nbconvert_exporter": "python",
   "pygments_lexer": "ipython3",
   "version": "3.5.2"
  },
  "toc": {
   "colors": {
    "hover_highlight": "#DAA520",
    "running_highlight": "#FF0000",
    "selected_highlight": "#FFD700"
   },
   "moveMenuLeft": true,
   "nav_menu": {
    "height": "45px",
    "width": "252px"
   },
   "navigate_menu": true,
   "number_sections": true,
   "sideBar": true,
   "threshold": 4,
   "toc_cell": false,
   "toc_section_display": "block",
   "toc_window_display": false
  }
 },
 "nbformat": 4,
 "nbformat_minor": 2
}
